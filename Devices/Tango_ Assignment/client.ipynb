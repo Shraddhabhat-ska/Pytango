{
 "cells": [
  {
   "cell_type": "code",
   "execution_count": 7,
   "metadata": {},
   "outputs": [],
   "source": [
    "import tango\n",
    "from tango import DeviceProxy, Group\n",
    "\n",
    "fe_group = Group(\"FrontEndDevice\")\n",
    "\n",
    "device_names = [\"fe/dev/1\", \"fe/dev/2\", \"fe/dev/3\"]\n",
    "for device in device_names:\n",
    "    fe_group.add(device)\n"
   ]
  },
  {
   "cell_type": "code",
   "execution_count": 8,
   "metadata": {},
   "outputs": [
    {
     "name": "stdout",
     "output_type": "stream",
     "text": [
      "Successfully set target temperature for <bound method dev_name of GroupReply()>\n",
      "Successfully set target temperature for <bound method dev_name of GroupReply()>\n",
      "Successfully set target temperature for <bound method dev_name of GroupReply()>\n"
     ]
    }
   ],
   "source": [
    "gr = fe_group.write_attribute(\"channel1Attn\", 12)\n",
    "\n",
    "for result in gr:\n",
    "    if result.has_failed():\n",
    "        print(f\"Failed to write to {result.dev_name}: {result.errors}\")\n",
    "    else:\n",
    "        print(f\"Successfully set target temperature for {result.dev_name}\")\n",
    "\n"
   ]
  },
  {
   "cell_type": "code",
   "execution_count": 19,
   "metadata": {},
   "outputs": [
    {
     "name": "stdout",
     "output_type": "stream",
     "text": [
      "None\n",
      "None\n",
      "None\n"
     ]
    }
   ],
   "source": [
    "cr = fe_group.command_inout(\"get_dev_status\")\n",
    "for res in cr:\n",
    "    print(res.get_data())"
   ]
  },
  {
   "cell_type": "code",
   "execution_count": 15,
   "metadata": {},
   "outputs": [
    {
     "name": "stdout",
     "output_type": "stream",
     "text": [
      "DeviceAttribute[\n",
      "data_format = tango._tango.AttrDataFormat.SCALAR\n",
      "      dim_x = 1\n",
      "      dim_y = 0\n",
      " has_failed = False\n",
      "   is_empty = False\n",
      "       name = 'channel1Attn'\n",
      "    nb_read = 1\n",
      " nb_written = 1\n",
      "    quality = tango._tango.AttrQuality.ATTR_VALID\n",
      "r_dimension = AttributeDimension(dim_x = 1, dim_y = 0)\n",
      "       time = TimeVal(tv_nsec = 824, tv_sec = 1730969854, tv_usec = 606567)\n",
      "       type = tango._tango.CmdArgType.DevDouble\n",
      "      value = 12.0\n",
      "    w_dim_x = 1\n",
      "    w_dim_y = 0\n",
      "w_dimension = AttributeDimension(dim_x = 1, dim_y = 0)\n",
      "    w_value = 12.0]\n",
      "\n",
      "DeviceAttribute[\n",
      "data_format = tango._tango.AttrDataFormat.SCALAR\n",
      "      dim_x = 1\n",
      "      dim_y = 0\n",
      " has_failed = False\n",
      "   is_empty = False\n",
      "       name = 'channel1Attn'\n",
      "    nb_read = 1\n",
      " nb_written = 1\n",
      "    quality = tango._tango.AttrQuality.ATTR_VALID\n",
      "r_dimension = AttributeDimension(dim_x = 1, dim_y = 0)\n",
      "       time = TimeVal(tv_nsec = 421, tv_sec = 1730969854, tv_usec = 606467)\n",
      "       type = tango._tango.CmdArgType.DevDouble\n",
      "      value = 12.0\n",
      "    w_dim_x = 1\n",
      "    w_dim_y = 0\n",
      "w_dimension = AttributeDimension(dim_x = 1, dim_y = 0)\n",
      "    w_value = 12.0]\n",
      "\n",
      "DeviceAttribute[\n",
      "data_format = tango._tango.AttrDataFormat.SCALAR\n",
      "      dim_x = 1\n",
      "      dim_y = 0\n",
      " has_failed = False\n",
      "   is_empty = False\n",
      "       name = 'channel1Attn'\n",
      "    nb_read = 1\n",
      " nb_written = 1\n",
      "    quality = tango._tango.AttrQuality.ATTR_VALID\n",
      "r_dimension = AttributeDimension(dim_x = 1, dim_y = 0)\n",
      "       time = TimeVal(tv_nsec = 780, tv_sec = 1730969854, tv_usec = 606692)\n",
      "       type = tango._tango.CmdArgType.DevDouble\n",
      "      value = 12.0\n",
      "    w_dim_x = 1\n",
      "    w_dim_y = 0\n",
      "w_dimension = AttributeDimension(dim_x = 1, dim_y = 0)\n",
      "    w_value = 12.0]\n",
      "\n"
     ]
    }
   ],
   "source": [
    "attr_res=fe_group.read_attribute(\"channel1Attn\")\n",
    "for r in attr_res:\n",
    "    print(r.get_data())\n"
   ]
  },
  {
   "cell_type": "code",
   "execution_count": null,
   "metadata": {},
   "outputs": [],
   "source": []
  }
 ],
 "metadata": {
  "kernelspec": {
   "display_name": "ITango",
   "language": "python",
   "name": "tango"
  },
  "language_info": {
   "codemirror_mode": {
    "name": "ipython",
    "version": 3
   },
   "file_extension": ".py",
   "mimetype": "text/x-python",
   "name": "python",
   "nbconvert_exporter": "python",
   "pygments_lexer": "ipython3",
   "version": "3.10.12"
  }
 },
 "nbformat": 4,
 "nbformat_minor": 2
}
